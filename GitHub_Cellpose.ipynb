{
 "cells": [
  {
   "cell_type": "markdown",
   "metadata": {},
   "source": [
    "# Downloading Cellpose \n",
    "\n",
    "To download cellpose you will need to dowload an older version of Python (Python 3.7) \n",
    "You will need to create a new environment in Anaconda-Navigator: environments > create > select which python version you wish to be installed in this new environment. Nothing in the notebook home page should change except the python version that is running in the notebooks. These should be a tutorial on how to do this online. \n",
    "Then you can follow the steps in https://github.com/MouseLand/cellpose/blob/master/README.md to install. \n",
    "\n",
    "A few things that need to be improved in this notebook: \n",
    "- We need to find a way to create a path to a folder with the images and have cellpose extract each image. What I did is that I input each individual path for each image I wanted cellpose to use and this is not efficient when we have a bunch of imaged. \n",
    "- We need to see how we can use the results for cellpose to be able to use the segmented cells for our DL tool. "
   ]
  },
  {
   "cell_type": "markdown",
   "metadata": {},
   "source": [
    "# Running Cellpose"
   ]
  },
  {
   "cell_type": "code",
   "execution_count": null,
   "metadata": {},
   "outputs": [],
   "source": [
    "import numpy as np\n",
    "import time, os, sys\n",
    "from urllib.parse import urlparse\n",
    "import matplotlib.pyplot as plt\n",
    "import matplotlib as mpl\n",
    "%matplotlib inline\n",
    "mpl.rcParams['figure.dpi'] = 300\n",
    "from cellpose import utils, io, models, plot\n",
    "\n",
    "# use_GPU = models.use_gpu()\n",
    "# print('>>> GPU activated? %d'%use_GPU)\n",
    "\n",
    "#----------------General----------------#\n",
    "import os                                                                             \n",
    "import cv2 \n",
    "import pickle \n",
    "import numpy as np \n",
    "import matplotlib.pyplot as plt      "
   ]
  },
  {
   "cell_type": "code",
   "execution_count": null,
   "metadata": {},
   "outputs": [],
   "source": [
    "# Import Data:\n",
    "# Each Path is specific to each image and where it is located. The names below are examples.\n",
    "imgs_path = ['/Users/brandonhernandez-pacheco/Desktop/Folder_Name/image1_name.png', \n",
    "            '/Users/brandonhernandez-pacheco/Desktop/Folder_Namen/image2_name.png', \n",
    "            '/Users/brandonhernandez-pacheco/Desktop/Folder_Name/image3_name.png']\n",
    "cell_imgs = []\n",
    "\n",
    "for i in range(len(imgs_path)):\n",
    "    single_img = os.path.basename(imgs_path[i])\n",
    "    cell_imgs.append(single_img)\n"
   ]
  },
  {
   "cell_type": "code",
   "execution_count": null,
   "metadata": {},
   "outputs": [],
   "source": [
    "#This is to verify that the 'for' loop above worked \n",
    "#and it should output ['image1_name.png', 'image2_name.png', 'image3_name.png']\n",
    "cell_imgs"
   ]
  },
  {
   "cell_type": "code",
   "execution_count": null,
   "metadata": {},
   "outputs": [],
   "source": [
    "#This is to display one of the images \n",
    "img = io.imread(imgs_path[1])\n",
    "plt.figure(figsize=(2,2))\n",
    "plt.imshow(img)\n",
    "plt.axis('off')\n",
    "plt.show()"
   ]
  },
  {
   "cell_type": "code",
   "execution_count": null,
   "metadata": {},
   "outputs": [],
   "source": [
    "# DEFINE CELLPOSE MODEL\n",
    "# model_type='cyto' or model_type='nuclei'\n",
    "model_cy = 'cyto'   \n",
    "model_nu = 'nuclei'\n",
    "\n",
    "model = models.Cellpose(gpu=False, model_type= model_cy)\n",
    "\n",
    "\n",
    "channels = [[2,3],[0,0], [0,0]]\n",
    "\n",
    "\n",
    "for chan, imgs_path in zip(channels, imgs_path):\n",
    "    img = io.imread(imgs_path)\n",
    "    masks, flows, styles, diams = model.eval(img, diameter = None, channels=chan)\n",
    "\n",
    "    # save results so you can load in gui\n",
    "    io.masks_flows_to_seg(img, masks, flows, diams, imgs_path, chan)\n",
    "\n",
    "    # save results as png\n",
    "    io.save_to_png(img, masks, flows, imgs_path)\n",
    "    "
   ]
  },
  {
   "cell_type": "code",
   "execution_count": null,
   "metadata": {},
   "outputs": [],
   "source": [
    "fig = plt.figure(figsize=(12,5))\n",
    "plot.show_segmentation(fig, img, masks, flows[0], channels=chan)\n",
    "plt.tight_layout()\n",
    "plt.show()"
   ]
  }
 ],
 "metadata": {
  "kernelspec": {
   "display_name": "Python 3",
   "language": "python",
   "name": "python3"
  },
  "language_info": {
   "codemirror_mode": {
    "name": "ipython",
    "version": 3
   },
   "file_extension": ".py",
   "mimetype": "text/x-python",
   "name": "python",
   "nbconvert_exporter": "python",
   "pygments_lexer": "ipython3",
   "version": "3.7.9"
  }
 },
 "nbformat": 4,
 "nbformat_minor": 4
}
